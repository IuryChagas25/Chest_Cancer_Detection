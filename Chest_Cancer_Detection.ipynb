{
  "cells": [
    {
      "cell_type": "code",
      "execution_count": 185,
      "id": "086c3d9b",
      "metadata": {
        "id": "086c3d9b"
      },
      "outputs": [],
      "source": [
        "import os                                             # Operational System para manipulação de arquivos.\n",
        "import cv2                                            # OpenCV para manipulação de imagens.\n",
        "import random\n",
        "import numpy as np                                    # Numpy para manipulação de matrizes e arrays.\n",
        "import matplotlib.pyplot as plt                       # Pyplot para plotagem de gráficos e imagens.\n",
        "from sklearn.metrics import confusion_matrix          # Scikit-Learn para plotar a matriz de confusão\n",
        "\n",
        "from tensorflow.keras import layers                   # Módulo de camadas do Keras\n",
        "from tensorflow.keras import callbacks                # Módulo de callbacks do Keras\n",
        "from tensorflow.keras import optimizers               # Módulo de otimizadores do Keras\n",
        "from tensorflow.keras.models import load_model        # Função para carregar um modelo salvo\n",
        "from tensorflow.keras.models import Sequential        # Classe de modelos sequenciais para construir as redes neurais.\n",
        "from tensorflow.keras.applications import VGG16       # Classe de modelos sequenciais para construir as redes neurais.\n",
        "\n",
        "from google_drive_downloader import GoogleDriveDownloader as gdd\n",
        "\n",
        "# ImageDataGenerator, utilizado para carregar imagens em tempo de execução\n",
        "from tensorflow.keras.preprocessing.image import ImageDataGenerator"
      ]
    },
    {
      "cell_type": "code",
      "source": [
        "from google.colab import drive\n",
        "drive.mount(\"/content/drive\")"
      ],
      "metadata": {
        "colab": {
          "base_uri": "https://localhost:8080/"
        },
        "id": "tfeNnr2TGZEI",
        "outputId": "debb2f1c-4afb-404c-88f4-dfe03f13c443"
      },
      "id": "tfeNnr2TGZEI",
      "execution_count": 186,
      "outputs": [
        {
          "output_type": "stream",
          "name": "stdout",
          "text": [
            "Drive already mounted at /content/drive; to attempt to forcibly remount, call drive.mount(\"/content/drive\", force_remount=True).\n"
          ]
        }
      ]
    },
    {
      "cell_type": "code",
      "source": [
        "!ls\n"
      ],
      "metadata": {
        "colab": {
          "base_uri": "https://localhost:8080/"
        },
        "id": "lCJyDIgQGfNh",
        "outputId": "f10a6d0f-0b38-41b8-9120-c4a6422ceb48"
      },
      "id": "lCJyDIgQGfNh",
      "execution_count": 187,
      "outputs": [
        {
          "output_type": "stream",
          "name": "stdout",
          "text": [
            "drive  flagged\tmodel2.h5  sample_data\n"
          ]
        }
      ]
    },
    {
      "cell_type": "code",
      "source": [
        "val_datagen   = ImageDataGenerator( rescale = 1./255 )\n",
        "val_generator = val_datagen.flow_from_directory(\"/content/drive/MyDrive/Chest Cancer Detection Resized/Data/validation resized\", target_size = (250, 250),\n",
        "                                                 batch_size  = 64)"
      ],
      "metadata": {
        "id": "TMnjG4W5wLqJ",
        "colab": {
          "base_uri": "https://localhost:8080/"
        },
        "outputId": "b0e0cd5e-18a2-457d-ed56-eeee8203a4c9"
      },
      "id": "TMnjG4W5wLqJ",
      "execution_count": 188,
      "outputs": [
        {
          "output_type": "stream",
          "name": "stdout",
          "text": [
            "Found 72 images belonging to 4 classes.\n"
          ]
        }
      ]
    },
    {
      "cell_type": "code",
      "source": [
        "# Atributo do generator que fornece o número de amostras detectadas\n",
        "val_samples = val_generator.samples \n",
        "print(val_samples, \"amostras detectadas\")\n",
        "\n",
        "# Atributo do generator que fornece o mapeamento de classe para índice \n",
        "# Repare que os índices são definidos pelo generator com base nos diretórios de arquivos em ordem alfabética\n",
        "class_to_idx_dict = val_generator.class_indices\n",
        "print( \"Mapeamento Classes -> Índices:\", class_to_idx_dict )\n",
        "\n",
        "# Construção de um novo dicionário que inverte o mapeamento\n",
        "idx_to_class_dict = { v: k for k, v in class_to_idx_dict.items() }\n",
        "print( \"Mapeamento Índices -> Classes:\", idx_to_class_dict )"
      ],
      "metadata": {
        "id": "Ziz4AqkA1azW",
        "colab": {
          "base_uri": "https://localhost:8080/"
        },
        "outputId": "44ef5953-b5ab-441f-9a61-646804b73874"
      },
      "id": "Ziz4AqkA1azW",
      "execution_count": 189,
      "outputs": [
        {
          "output_type": "stream",
          "name": "stdout",
          "text": [
            "72 amostras detectadas\n",
            "Mapeamento Classes -> Índices: {'Resized adenocarcinoma': 0, 'Resized large.cell.carcinoma': 1, 'Resized normal': 2, 'Resized squamous.cell.carcinoma': 3}\n",
            "Mapeamento Índices -> Classes: {0: 'Resized adenocarcinoma', 1: 'Resized large.cell.carcinoma', 2: 'Resized normal', 3: 'Resized squamous.cell.carcinoma'}\n"
          ]
        }
      ]
    },
    {
      "cell_type": "code",
      "source": [
        "train_datagen = ImageDataGenerator(\n",
        "    rescale = 1. / 255,        # normalizando as imagens\n",
        "    rotation_range = 20,       # Rotação aleatória de até 20°\n",
        "    width_shift_range = 0.2,   # Translação horizontal de até 20% da largura\n",
        "    height_shift_range = 0.2,  # Translação vertical de até 20% da altura\n",
        "    #zoom_range = 0.2,          # Zoom aleatório de até 20%\n",
        "    shear_range = 0.1,         # Deformação de 10%\n",
        "    horizontal_flip = True,    # Espelhamento horizontal aleatório\n",
        "    vertical_flip = False,     # Espelhamento vertical aleatório\n",
        "    fill_mode = \"nearest\")     # Preenchimentod e buracos pelo pixel mais próximo\n",
        "\n",
        "train_generator = train_datagen.flow_from_directory(\n",
        "    \"/content/drive/MyDrive/Chest Cancer Detection Resized/Data/train resized\", target_size = (250, 250),\n",
        "    batch_size  = 64)\n",
        "\n",
        "\n",
        "# Atributo do generator que fornece o número de amostras detectadas\n",
        "train_samples = train_generator.samples \n",
        "print(train_samples)"
      ],
      "metadata": {
        "id": "wvlu7p_SHZRd",
        "colab": {
          "base_uri": "https://localhost:8080/"
        },
        "outputId": "b0a5e3ca-5e8a-4270-b835-55593843776a"
      },
      "id": "wvlu7p_SHZRd",
      "execution_count": 190,
      "outputs": [
        {
          "output_type": "stream",
          "name": "stdout",
          "text": [
            "Found 601 images belonging to 4 classes.\n",
            "601\n"
          ]
        }
      ]
    },
    {
      "cell_type": "code",
      "source": [
        "test_datagen   = ImageDataGenerator( rescale = 1./255 )\n",
        "test_generator = test_datagen.flow_from_directory(\"/content/drive/MyDrive/Chest Cancer Detection Resized/Data/test resized\", target_size = (250, 250),\n",
        "                                                   batch_size  = 64, shuffle = False)\n",
        "batch_size = 10"
      ],
      "metadata": {
        "colab": {
          "base_uri": "https://localhost:8080/"
        },
        "id": "ytKKP4xawN65",
        "outputId": "47326db0-6b52-461c-bf13-de0a15a6bc2c"
      },
      "id": "ytKKP4xawN65",
      "execution_count": 191,
      "outputs": [
        {
          "output_type": "stream",
          "name": "stdout",
          "text": [
            "Found 315 images belonging to 4 classes.\n"
          ]
        }
      ]
    },
    {
      "cell_type": "code",
      "source": [
        "def print_vgg16_summary( shape ):\n",
        "    conv_base = VGG16(include_top = False, weights = \"imagenet\", input_shape = shape)\n",
        "    print( conv_base.summary() )\n",
        "    return\n",
        "\n",
        "print_vgg16_summary( shape = (250, 250, 3) )"
      ],
      "metadata": {
        "colab": {
          "base_uri": "https://localhost:8080/"
        },
        "id": "seq6jzjbIffY",
        "outputId": "f4fab86e-ed30-4c08-86c9-7b5e6619c546"
      },
      "id": "seq6jzjbIffY",
      "execution_count": 192,
      "outputs": [
        {
          "output_type": "stream",
          "name": "stdout",
          "text": [
            "Model: \"vgg16\"\n",
            "_________________________________________________________________\n",
            " Layer (type)                Output Shape              Param #   \n",
            "=================================================================\n",
            " input_23 (InputLayer)       [(None, 250, 250, 3)]     0         \n",
            "                                                                 \n",
            " block1_conv1 (Conv2D)       (None, 250, 250, 64)      1792      \n",
            "                                                                 \n",
            " block1_conv2 (Conv2D)       (None, 250, 250, 64)      36928     \n",
            "                                                                 \n",
            " block1_pool (MaxPooling2D)  (None, 125, 125, 64)      0         \n",
            "                                                                 \n",
            " block2_conv1 (Conv2D)       (None, 125, 125, 128)     73856     \n",
            "                                                                 \n",
            " block2_conv2 (Conv2D)       (None, 125, 125, 128)     147584    \n",
            "                                                                 \n",
            " block2_pool (MaxPooling2D)  (None, 62, 62, 128)       0         \n",
            "                                                                 \n",
            " block3_conv1 (Conv2D)       (None, 62, 62, 256)       295168    \n",
            "                                                                 \n",
            " block3_conv2 (Conv2D)       (None, 62, 62, 256)       590080    \n",
            "                                                                 \n",
            " block3_conv3 (Conv2D)       (None, 62, 62, 256)       590080    \n",
            "                                                                 \n",
            " block3_pool (MaxPooling2D)  (None, 31, 31, 256)       0         \n",
            "                                                                 \n",
            " block4_conv1 (Conv2D)       (None, 31, 31, 512)       1180160   \n",
            "                                                                 \n",
            " block4_conv2 (Conv2D)       (None, 31, 31, 512)       2359808   \n",
            "                                                                 \n",
            " block4_conv3 (Conv2D)       (None, 31, 31, 512)       2359808   \n",
            "                                                                 \n",
            " block4_pool (MaxPooling2D)  (None, 15, 15, 512)       0         \n",
            "                                                                 \n",
            " block5_conv1 (Conv2D)       (None, 15, 15, 512)       2359808   \n",
            "                                                                 \n",
            " block5_conv2 (Conv2D)       (None, 15, 15, 512)       2359808   \n",
            "                                                                 \n",
            " block5_conv3 (Conv2D)       (None, 15, 15, 512)       2359808   \n",
            "                                                                 \n",
            " block5_pool (MaxPooling2D)  (None, 7, 7, 512)         0         \n",
            "                                                                 \n",
            "=================================================================\n",
            "Total params: 14,714,688\n",
            "Trainable params: 14,714,688\n",
            "Non-trainable params: 0\n",
            "_________________________________________________________________\n",
            "None\n"
          ]
        }
      ]
    },
    {
      "cell_type": "code",
      "source": [
        "def build_model( input_shape, n_outputs ):\n",
        "    # Base convolucional\n",
        "    conv_base = VGG16(include_top = False, weights = \"imagenet\", input_shape = input_shape)\n",
        "    conv_base.trainable = False\n",
        "    \n",
        "    rede = Sequential()\n",
        "    rede.add( conv_base )\n",
        "    rede.add( layers.Flatten() )\n",
        "    rede.add( layers.Dense( 256, activation = \"relu\" ) )\n",
        "    rede.add( layers.Dense(   4, activation = \"softmax\" ) )\n",
        "    \n",
        "    return rede\n",
        "\n",
        "model = build_model( (250, 250, 3), 1 )\n",
        "model.compile(optimizer=optimizers.Adam(lr=1e-4), \n",
        "              loss=\"categorical_crossentropy\", \n",
        "              metrics=[\"acc\"])\n",
        "model.summary()"
      ],
      "metadata": {
        "colab": {
          "base_uri": "https://localhost:8080/"
        },
        "id": "gwB3u4guJCwi",
        "outputId": "ca4f2498-2900-4e45-ee83-99516f82f0df"
      },
      "id": "gwB3u4guJCwi",
      "execution_count": 193,
      "outputs": [
        {
          "output_type": "stream",
          "name": "stdout",
          "text": [
            "Model: \"sequential_11\"\n",
            "_________________________________________________________________\n",
            " Layer (type)                Output Shape              Param #   \n",
            "=================================================================\n",
            " vgg16 (Functional)          (None, 7, 7, 512)         14714688  \n",
            "                                                                 \n",
            " flatten_11 (Flatten)        (None, 25088)             0         \n",
            "                                                                 \n",
            " dense_22 (Dense)            (None, 256)               6422784   \n",
            "                                                                 \n",
            " dense_23 (Dense)            (None, 4)                 1028      \n",
            "                                                                 \n",
            "=================================================================\n",
            "Total params: 21,138,500\n",
            "Trainable params: 6,423,812\n",
            "Non-trainable params: 14,714,688\n",
            "_________________________________________________________________\n"
          ]
        },
        {
          "output_type": "stream",
          "name": "stderr",
          "text": [
            "/usr/local/lib/python3.7/dist-packages/keras/optimizer_v2/adam.py:105: UserWarning: The `lr` argument is deprecated, use `learning_rate` instead.\n",
            "  super(Adam, self).__init__(name, **kwargs)\n"
          ]
        }
      ]
    },
    {
      "cell_type": "code",
      "source": [
        "# definindo todas as camadas do modelo como treináveis \n",
        "model.trainable = True\n",
        "# obtendo as camadas convolucionais da arquitetura VGG16\n",
        "conv_base = model.get_layer(\"vgg16\")\n",
        "\n",
        "# criando uma flag de estado de treinamento e inicializando-a como falsa (estado não treinável) \n",
        "set_trainable = False\n",
        "# para cada uma das camadas convolucionais da VGG16...\n",
        "for layer in conv_base.layers:\n",
        "    # se a camada for igual a 'block5_conv2'...\n",
        "    if layer.name == \"block4_conv1\":\n",
        "        # a flag de estado de treinamento muda de estado para estado treinável\n",
        "        set_trainable = True\n",
        "    # todas as camadas posteriores a 'block5_conv2' são configuradas como treinável \n",
        "    # e as camadas anteriores como não treináveis\n",
        "    layer.trainable = set_trainable"
      ],
      "metadata": {
        "id": "DUVNS5lZR2fS"
      },
      "id": "DUVNS5lZR2fS",
      "execution_count": 179,
      "outputs": []
    },
    {
      "cell_type": "code",
      "source": [
        "conv_base = model.get_layer(\"vgg16\")\n",
        "for layer in conv_base.layers:\n",
        "    status = \"Treinável\" if layer.trainable else \"Congelada\"\n",
        "    print(\"Camada '{}' - Status: {} - Entrada: {} - Saída: {}\".format(layer.name,\n",
        "                                                                      status, \n",
        "                                                                      layer.input_shape, \n",
        "                                                                      layer.output_shape))"
      ],
      "metadata": {
        "colab": {
          "base_uri": "https://localhost:8080/"
        },
        "id": "TyQoW9nWSL6E",
        "outputId": "6d27f387-0828-49f2-a504-18d9b1b3cfc5"
      },
      "id": "TyQoW9nWSL6E",
      "execution_count": 180,
      "outputs": [
        {
          "output_type": "stream",
          "name": "stdout",
          "text": [
            "Camada 'input_22' - Status: Congelada - Entrada: [(None, 250, 250, 3)] - Saída: [(None, 250, 250, 3)]\n",
            "Camada 'block1_conv1' - Status: Congelada - Entrada: (None, 250, 250, 3) - Saída: (None, 250, 250, 64)\n",
            "Camada 'block1_conv2' - Status: Congelada - Entrada: (None, 250, 250, 64) - Saída: (None, 250, 250, 64)\n",
            "Camada 'block1_pool' - Status: Congelada - Entrada: (None, 250, 250, 64) - Saída: (None, 125, 125, 64)\n",
            "Camada 'block2_conv1' - Status: Congelada - Entrada: (None, 125, 125, 64) - Saída: (None, 125, 125, 128)\n",
            "Camada 'block2_conv2' - Status: Congelada - Entrada: (None, 125, 125, 128) - Saída: (None, 125, 125, 128)\n",
            "Camada 'block2_pool' - Status: Congelada - Entrada: (None, 125, 125, 128) - Saída: (None, 62, 62, 128)\n",
            "Camada 'block3_conv1' - Status: Congelada - Entrada: (None, 62, 62, 128) - Saída: (None, 62, 62, 256)\n",
            "Camada 'block3_conv2' - Status: Congelada - Entrada: (None, 62, 62, 256) - Saída: (None, 62, 62, 256)\n",
            "Camada 'block3_conv3' - Status: Congelada - Entrada: (None, 62, 62, 256) - Saída: (None, 62, 62, 256)\n",
            "Camada 'block3_pool' - Status: Congelada - Entrada: (None, 62, 62, 256) - Saída: (None, 31, 31, 256)\n",
            "Camada 'block4_conv1' - Status: Treinável - Entrada: (None, 31, 31, 256) - Saída: (None, 31, 31, 512)\n",
            "Camada 'block4_conv2' - Status: Treinável - Entrada: (None, 31, 31, 512) - Saída: (None, 31, 31, 512)\n",
            "Camada 'block4_conv3' - Status: Treinável - Entrada: (None, 31, 31, 512) - Saída: (None, 31, 31, 512)\n",
            "Camada 'block4_pool' - Status: Treinável - Entrada: (None, 31, 31, 512) - Saída: (None, 15, 15, 512)\n",
            "Camada 'block5_conv1' - Status: Treinável - Entrada: (None, 15, 15, 512) - Saída: (None, 15, 15, 512)\n",
            "Camada 'block5_conv2' - Status: Treinável - Entrada: (None, 15, 15, 512) - Saída: (None, 15, 15, 512)\n",
            "Camada 'block5_conv3' - Status: Treinável - Entrada: (None, 15, 15, 512) - Saída: (None, 15, 15, 512)\n",
            "Camada 'block5_pool' - Status: Treinável - Entrada: (None, 15, 15, 512) - Saída: (None, 7, 7, 512)\n"
          ]
        }
      ]
    },
    {
      "cell_type": "code",
      "source": [
        "model.compile(optimizer=optimizers.Adam(learning_rate = 1e-5), \n",
        "              loss = \"categorical_crossentropy\", \n",
        "              metrics = [\"acc\"])\n",
        "\n",
        "model.summary()"
      ],
      "metadata": {
        "colab": {
          "base_uri": "https://localhost:8080/"
        },
        "id": "K7MoOYvCSjmR",
        "outputId": "d8c5b9c9-b93e-4494-9f11-63815325110f"
      },
      "id": "K7MoOYvCSjmR",
      "execution_count": 194,
      "outputs": [
        {
          "output_type": "stream",
          "name": "stdout",
          "text": [
            "Model: \"sequential_11\"\n",
            "_________________________________________________________________\n",
            " Layer (type)                Output Shape              Param #   \n",
            "=================================================================\n",
            " vgg16 (Functional)          (None, 7, 7, 512)         14714688  \n",
            "                                                                 \n",
            " flatten_11 (Flatten)        (None, 25088)             0         \n",
            "                                                                 \n",
            " dense_22 (Dense)            (None, 256)               6422784   \n",
            "                                                                 \n",
            " dense_23 (Dense)            (None, 4)                 1028      \n",
            "                                                                 \n",
            "=================================================================\n",
            "Total params: 21,138,500\n",
            "Trainable params: 6,423,812\n",
            "Non-trainable params: 14,714,688\n",
            "_________________________________________________________________\n"
          ]
        }
      ]
    },
    {
      "cell_type": "code",
      "source": [
        "model_checkpoint = callbacks.ModelCheckpoint(\"model2.h5\", monitor = \"accuracy\", save_best_only = True, verbose = 1)\n",
        "reduce_lr_on_plateau = callbacks.ReduceLROnPlateau(monitor = \"accuracy\", factor = 0.75, patience = 3, verbose = 1)\n",
        "\n",
        "# Repare que ao utilizar mais de 1 callback elas devem ser organizadas em uma lista\n",
        "callback_list = [model_checkpoint, reduce_lr_on_plateau]"
      ],
      "metadata": {
        "id": "re6yzt4CJ2VN"
      },
      "id": "re6yzt4CJ2VN",
      "execution_count": 195,
      "outputs": []
    },
    {
      "cell_type": "code",
      "source": [
        "ACCURACY_THRESHOLD = 0.95\n",
        "\n",
        "class myCallback(tf.keras.callbacks.Callback):\n",
        "    def on_epoch_end(self, epoch, logs={}):\n",
        "        if(logs.get('val_accuracy') > ACCURACY_THRESHOLD):\n",
        "            print(\"\\nReached %2.2f%% accuracy, so stopping training!!\" %(ACCURACY_THRESHOLD*100))\n",
        "            self.model.stop_training = True\n",
        "\n",
        "METRICS = [\n",
        "      tf.keras.metrics.BinaryAccuracy(name='accuracy'),\n",
        "      tf.keras.metrics.Precision(name='precision'),\n",
        "      tf.keras.metrics.Recall(name='recall'),  \n",
        "      tf.keras.metrics.AUC(name='auc')\n",
        "]\n",
        "callbacks = myCallback()\n",
        "model.compile(optimizer=optimizers.Adam(learning_rate=0.001), loss='categorical_crossentropy',metrics=METRICS)"
      ],
      "metadata": {
        "id": "y8IpyAeoCC_-"
      },
      "id": "y8IpyAeoCC_-",
      "execution_count": 196,
      "outputs": []
    },
    {
      "cell_type": "code",
      "source": [
        "history=model.fit(train_generator,validation_data=val_generator,epochs = 1000,callbacks=[callbacks],verbose = 1)"
      ],
      "metadata": {
        "colab": {
          "base_uri": "https://localhost:8080/"
        },
        "id": "0TFuOkWQCJUC",
        "outputId": "b9a84070-41c1-4c74-eb14-4613da26e2df"
      },
      "id": "0TFuOkWQCJUC",
      "execution_count": 197,
      "outputs": [
        {
          "output_type": "stream",
          "name": "stdout",
          "text": [
            "Epoch 1/1000\n",
            "10/10 [==============================] - 18s 2s/step - loss: 7.2339 - accuracy: 0.6780 - precision: 0.3340 - recall: 0.2895 - auc: 0.5663 - val_loss: 1.6113 - val_accuracy: 0.7396 - val_precision: 0.4516 - val_recall: 0.1944 - val_auc: 0.5998\n",
            "Epoch 2/1000\n",
            "10/10 [==============================] - 16s 2s/step - loss: 1.5156 - accuracy: 0.7537 - precision: 0.5115 - recall: 0.3328 - auc: 0.6765 - val_loss: 1.3176 - val_accuracy: 0.7292 - val_precision: 0.4559 - val_recall: 0.4306 - val_auc: 0.7359\n",
            "Epoch 3/1000\n",
            "10/10 [==============================] - 16s 2s/step - loss: 0.9938 - accuracy: 0.7908 - precision: 0.6690 - recall: 0.3228 - auc: 0.8165 - val_loss: 0.9068 - val_accuracy: 0.7951 - val_precision: 0.6383 - val_recall: 0.4167 - val_auc: 0.8422\n",
            "Epoch 4/1000\n",
            "10/10 [==============================] - 16s 2s/step - loss: 0.8657 - accuracy: 0.8103 - precision: 0.7409 - recall: 0.3710 - auc: 0.8651 - val_loss: 0.8485 - val_accuracy: 0.8160 - val_precision: 0.8276 - val_recall: 0.3333 - val_auc: 0.8644\n",
            "Epoch 5/1000\n",
            "10/10 [==============================] - 16s 2s/step - loss: 0.7895 - accuracy: 0.8265 - precision: 0.7771 - recall: 0.4293 - auc: 0.8964 - val_loss: 0.8456 - val_accuracy: 0.7882 - val_precision: 0.6000 - val_recall: 0.4583 - val_auc: 0.8649\n",
            "Epoch 6/1000\n",
            "10/10 [==============================] - 16s 2s/step - loss: 0.7532 - accuracy: 0.8415 - precision: 0.7895 - recall: 0.4992 - auc: 0.9073 - val_loss: 0.8964 - val_accuracy: 0.7639 - val_precision: 0.5345 - val_recall: 0.4306 - val_auc: 0.8461\n",
            "Epoch 7/1000\n",
            "10/10 [==============================] - 16s 2s/step - loss: 0.7199 - accuracy: 0.8544 - precision: 0.8068 - recall: 0.5491 - auc: 0.9135 - val_loss: 0.8517 - val_accuracy: 0.7812 - val_precision: 0.5818 - val_recall: 0.4444 - val_auc: 0.8590\n",
            "Epoch 8/1000\n",
            "10/10 [==============================] - 16s 2s/step - loss: 0.6613 - accuracy: 0.8694 - precision: 0.8376 - recall: 0.5923 - auc: 0.9339 - val_loss: 0.7698 - val_accuracy: 0.8090 - val_precision: 0.6545 - val_recall: 0.5000 - val_auc: 0.8902\n",
            "Epoch 9/1000\n",
            "10/10 [==============================] - 16s 2s/step - loss: 0.6361 - accuracy: 0.8798 - precision: 0.8319 - recall: 0.6506 - auc: 0.9355 - val_loss: 0.7291 - val_accuracy: 0.8715 - val_precision: 0.8723 - val_recall: 0.5694 - val_auc: 0.9157\n",
            "Epoch 10/1000\n",
            "10/10 [==============================] - 16s 2s/step - loss: 0.6632 - accuracy: 0.8631 - precision: 0.7918 - recall: 0.6140 - auc: 0.9256 - val_loss: 0.7065 - val_accuracy: 0.8785 - val_precision: 0.8776 - val_recall: 0.5972 - val_auc: 0.9236\n",
            "Epoch 11/1000\n",
            "10/10 [==============================] - 16s 2s/step - loss: 0.5842 - accuracy: 0.8864 - precision: 0.8388 - recall: 0.6755 - auc: 0.9476 - val_loss: 0.7141 - val_accuracy: 0.8611 - val_precision: 0.8478 - val_recall: 0.5417 - val_auc: 0.9142\n",
            "Epoch 12/1000\n",
            "10/10 [==============================] - 16s 2s/step - loss: 0.5451 - accuracy: 0.8935 - precision: 0.8471 - recall: 0.7005 - auc: 0.9565 - val_loss: 0.7032 - val_accuracy: 0.8472 - val_precision: 0.7333 - val_recall: 0.6111 - val_auc: 0.9109\n",
            "Epoch 13/1000\n",
            "10/10 [==============================] - 16s 2s/step - loss: 0.5823 - accuracy: 0.8773 - precision: 0.7977 - recall: 0.6822 - auc: 0.9402 - val_loss: 0.8256 - val_accuracy: 0.8125 - val_precision: 0.6406 - val_recall: 0.5694 - val_auc: 0.8813\n",
            "Epoch 14/1000\n",
            "10/10 [==============================] - 15s 1s/step - loss: 0.6237 - accuracy: 0.8710 - precision: 0.7793 - recall: 0.6755 - auc: 0.9309 - val_loss: 0.9452 - val_accuracy: 0.7674 - val_precision: 0.5362 - val_recall: 0.5139 - val_auc: 0.8632\n",
            "Epoch 15/1000\n",
            "10/10 [==============================] - 16s 2s/step - loss: 0.6030 - accuracy: 0.8869 - precision: 0.8157 - recall: 0.7072 - auc: 0.9366 - val_loss: 0.8957 - val_accuracy: 0.7882 - val_precision: 0.5846 - val_recall: 0.5278 - val_auc: 0.8682\n",
            "Epoch 16/1000\n",
            "10/10 [==============================] - 16s 2s/step - loss: 0.5306 - accuracy: 0.8943 - precision: 0.8356 - recall: 0.7188 - auc: 0.9534 - val_loss: 0.8801 - val_accuracy: 0.8264 - val_precision: 0.6774 - val_recall: 0.5833 - val_auc: 0.8728\n",
            "Epoch 17/1000\n",
            "10/10 [==============================] - 16s 2s/step - loss: 0.4925 - accuracy: 0.9064 - precision: 0.8602 - recall: 0.7471 - auc: 0.9619 - val_loss: 0.6418 - val_accuracy: 0.8785 - val_precision: 0.8033 - val_recall: 0.6806 - val_auc: 0.9317\n",
            "Epoch 18/1000\n",
            "10/10 [==============================] - 16s 2s/step - loss: 0.4205 - accuracy: 0.9309 - precision: 0.9020 - recall: 0.8120 - auc: 0.9774 - val_loss: 0.7148 - val_accuracy: 0.8576 - val_precision: 0.7385 - val_recall: 0.6667 - val_auc: 0.9108\n",
            "Epoch 19/1000\n",
            "10/10 [==============================] - 16s 2s/step - loss: 0.4534 - accuracy: 0.9118 - precision: 0.8517 - recall: 0.7837 - auc: 0.9665 - val_loss: 0.7612 - val_accuracy: 0.8368 - val_precision: 0.6984 - val_recall: 0.6111 - val_auc: 0.9014\n",
            "Epoch 20/1000\n",
            "10/10 [==============================] - 16s 2s/step - loss: 0.4509 - accuracy: 0.9147 - precision: 0.8736 - recall: 0.7704 - auc: 0.9685 - val_loss: 0.6567 - val_accuracy: 0.8542 - val_precision: 0.7419 - val_recall: 0.6389 - val_auc: 0.9253\n",
            "Epoch 21/1000\n",
            "10/10 [==============================] - 16s 2s/step - loss: 0.4538 - accuracy: 0.9210 - precision: 0.8785 - recall: 0.7937 - auc: 0.9679 - val_loss: 0.7266 - val_accuracy: 0.8403 - val_precision: 0.6970 - val_recall: 0.6389 - val_auc: 0.9082\n",
            "Epoch 22/1000\n",
            "10/10 [==============================] - 16s 2s/step - loss: 0.3908 - accuracy: 0.9339 - precision: 0.9004 - recall: 0.8270 - auc: 0.9788 - val_loss: 0.6170 - val_accuracy: 0.8924 - val_precision: 0.8154 - val_recall: 0.7361 - val_auc: 0.9342\n",
            "Epoch 23/1000\n",
            "10/10 [==============================] - 15s 1s/step - loss: 0.3811 - accuracy: 0.9322 - precision: 0.8982 - recall: 0.8220 - auc: 0.9809 - val_loss: 0.6215 - val_accuracy: 0.8750 - val_precision: 0.7812 - val_recall: 0.6944 - val_auc: 0.9335\n",
            "Epoch 24/1000\n",
            "10/10 [==============================] - 16s 2s/step - loss: 0.3662 - accuracy: 0.9330 - precision: 0.8986 - recall: 0.8253 - auc: 0.9806 - val_loss: 0.5735 - val_accuracy: 0.8958 - val_precision: 0.8500 - val_recall: 0.7083 - val_auc: 0.9458\n",
            "Epoch 25/1000\n",
            "10/10 [==============================] - 16s 2s/step - loss: 0.3776 - accuracy: 0.9364 - precision: 0.9058 - recall: 0.8319 - auc: 0.9799 - val_loss: 0.6400 - val_accuracy: 0.8819 - val_precision: 0.8167 - val_recall: 0.6806 - val_auc: 0.9334\n",
            "Epoch 26/1000\n",
            "10/10 [==============================] - 16s 2s/step - loss: 0.3833 - accuracy: 0.9272 - precision: 0.8790 - recall: 0.8220 - auc: 0.9763 - val_loss: 0.5834 - val_accuracy: 0.9028 - val_precision: 0.8438 - val_recall: 0.7500 - val_auc: 0.9420\n",
            "Epoch 27/1000\n",
            "10/10 [==============================] - 16s 2s/step - loss: 0.3408 - accuracy: 0.9447 - precision: 0.9179 - recall: 0.8552 - auc: 0.9830 - val_loss: 0.5965 - val_accuracy: 0.8993 - val_precision: 0.8308 - val_recall: 0.7500 - val_auc: 0.9396\n",
            "Epoch 28/1000\n",
            "10/10 [==============================] - 16s 2s/step - loss: 0.3745 - accuracy: 0.9297 - precision: 0.8913 - recall: 0.8186 - auc: 0.9780 - val_loss: 0.5588 - val_accuracy: 0.9201 - val_precision: 0.8769 - val_recall: 0.7917 - val_auc: 0.9442\n",
            "Epoch 29/1000\n",
            "10/10 [==============================] - 16s 2s/step - loss: 0.3498 - accuracy: 0.9339 - precision: 0.8905 - recall: 0.8386 - auc: 0.9819 - val_loss: 0.5909 - val_accuracy: 0.9097 - val_precision: 0.8594 - val_recall: 0.7639 - val_auc: 0.9401\n",
            "Epoch 30/1000\n",
            "10/10 [==============================] - 16s 2s/step - loss: 0.3327 - accuracy: 0.9430 - precision: 0.9099 - recall: 0.8569 - auc: 0.9838 - val_loss: 0.5524 - val_accuracy: 0.9132 - val_precision: 0.8406 - val_recall: 0.8056 - val_auc: 0.9484\n",
            "Epoch 31/1000\n",
            "10/10 [==============================] - 16s 2s/step - loss: 0.3174 - accuracy: 0.9438 - precision: 0.9102 - recall: 0.8602 - auc: 0.9842 - val_loss: 0.6640 - val_accuracy: 0.9132 - val_precision: 0.8406 - val_recall: 0.8056 - val_auc: 0.9323\n",
            "Epoch 32/1000\n",
            "10/10 [==============================] - 16s 2s/step - loss: 0.3197 - accuracy: 0.9501 - precision: 0.9183 - recall: 0.8785 - auc: 0.9844 - val_loss: 0.5799 - val_accuracy: 0.8958 - val_precision: 0.8182 - val_recall: 0.7500 - val_auc: 0.9430\n",
            "Epoch 33/1000\n",
            "10/10 [==============================] - 16s 2s/step - loss: 0.3006 - accuracy: 0.9509 - precision: 0.9290 - recall: 0.8702 - auc: 0.9871 - val_loss: 0.5399 - val_accuracy: 0.9097 - val_precision: 0.8286 - val_recall: 0.8056 - val_auc: 0.9512\n",
            "Epoch 34/1000\n",
            "10/10 [==============================] - 16s 2s/step - loss: 0.3075 - accuracy: 0.9493 - precision: 0.9122 - recall: 0.8819 - auc: 0.9860 - val_loss: 0.5151 - val_accuracy: 0.9236 - val_precision: 0.8571 - val_recall: 0.8333 - val_auc: 0.9555\n",
            "Epoch 35/1000\n",
            "10/10 [==============================] - 16s 2s/step - loss: 0.3188 - accuracy: 0.9384 - precision: 0.8939 - recall: 0.8552 - auc: 0.9834 - val_loss: 0.6251 - val_accuracy: 0.8576 - val_precision: 0.7313 - val_recall: 0.6806 - val_auc: 0.9351\n",
            "Epoch 36/1000\n",
            "10/10 [==============================] - 16s 2s/step - loss: 0.3457 - accuracy: 0.9289 - precision: 0.8759 - recall: 0.8336 - auc: 0.9791 - val_loss: 0.6341 - val_accuracy: 0.8750 - val_precision: 0.7571 - val_recall: 0.7361 - val_auc: 0.9364\n",
            "Epoch 37/1000\n",
            "10/10 [==============================] - 16s 2s/step - loss: 0.3092 - accuracy: 0.9443 - precision: 0.9075 - recall: 0.8652 - auc: 0.9847 - val_loss: 0.6952 - val_accuracy: 0.9097 - val_precision: 0.8485 - val_recall: 0.7778 - val_auc: 0.9317\n",
            "Epoch 38/1000\n",
            "10/10 [==============================] - 16s 2s/step - loss: 0.2747 - accuracy: 0.9513 - precision: 0.9130 - recall: 0.8902 - auc: 0.9890 - val_loss: 0.5698 - val_accuracy: 0.9271 - val_precision: 0.8592 - val_recall: 0.8472 - val_auc: 0.9489\n",
            "Epoch 39/1000\n",
            "10/10 [==============================] - 15s 1s/step - loss: 0.2349 - accuracy: 0.9630 - precision: 0.9414 - recall: 0.9085 - auc: 0.9930 - val_loss: 0.5954 - val_accuracy: 0.9028 - val_precision: 0.8235 - val_recall: 0.7778 - val_auc: 0.9438\n",
            "Epoch 40/1000\n",
            "10/10 [==============================] - 15s 1s/step - loss: 0.2621 - accuracy: 0.9617 - precision: 0.9365 - recall: 0.9085 - auc: 0.9900 - val_loss: 0.5564 - val_accuracy: 0.9097 - val_precision: 0.8485 - val_recall: 0.7778 - val_auc: 0.9504\n",
            "Epoch 41/1000\n",
            "10/10 [==============================] - 16s 2s/step - loss: 0.2371 - accuracy: 0.9688 - precision: 0.9534 - recall: 0.9201 - auc: 0.9925 - val_loss: 0.5015 - val_accuracy: 0.9410 - val_precision: 0.8873 - val_recall: 0.8750 - val_auc: 0.9579\n",
            "Epoch 42/1000\n",
            "10/10 [==============================] - 16s 2s/step - loss: 0.2278 - accuracy: 0.9626 - precision: 0.9383 - recall: 0.9101 - auc: 0.9936 - val_loss: 0.5034 - val_accuracy: 0.9375 - val_precision: 0.8857 - val_recall: 0.8611 - val_auc: 0.9588\n",
            "Epoch 43/1000\n",
            "10/10 [==============================] - 16s 2s/step - loss: 0.2492 - accuracy: 0.9609 - precision: 0.9409 - recall: 0.9002 - auc: 0.9906 - val_loss: 0.5038 - val_accuracy: 0.9375 - val_precision: 0.8857 - val_recall: 0.8611 - val_auc: 0.9579\n",
            "Epoch 44/1000\n",
            "10/10 [==============================] - 16s 2s/step - loss: 0.2343 - accuracy: 0.9609 - precision: 0.9363 - recall: 0.9052 - auc: 0.9922 - val_loss: 0.5502 - val_accuracy: 0.9201 - val_precision: 0.8451 - val_recall: 0.8333 - val_auc: 0.9544\n",
            "Epoch 45/1000\n",
            "10/10 [==============================] - 16s 2s/step - loss: 0.2355 - accuracy: 0.9605 - precision: 0.9317 - recall: 0.9085 - auc: 0.9917 - val_loss: 0.5167 - val_accuracy: 0.9201 - val_precision: 0.8551 - val_recall: 0.8194 - val_auc: 0.9583\n",
            "Epoch 46/1000\n",
            "10/10 [==============================] - 16s 2s/step - loss: 0.2277 - accuracy: 0.9601 - precision: 0.9331 - recall: 0.9052 - auc: 0.9922 - val_loss: 0.5508 - val_accuracy: 0.8785 - val_precision: 0.7761 - val_recall: 0.7222 - val_auc: 0.9495\n",
            "Epoch 47/1000\n",
            "10/10 [==============================] - 15s 2s/step - loss: 0.2457 - accuracy: 0.9559 - precision: 0.9260 - recall: 0.8952 - auc: 0.9907 - val_loss: 0.5661 - val_accuracy: 0.9201 - val_precision: 0.8451 - val_recall: 0.8333 - val_auc: 0.9500\n",
            "Epoch 48/1000\n",
            "10/10 [==============================] - 16s 2s/step - loss: 0.2157 - accuracy: 0.9663 - precision: 0.9437 - recall: 0.9201 - auc: 0.9929 - val_loss: 0.5212 - val_accuracy: 0.9271 - val_precision: 0.8592 - val_recall: 0.8472 - val_auc: 0.9620\n",
            "Epoch 49/1000\n",
            "10/10 [==============================] - 15s 1s/step - loss: 0.2127 - accuracy: 0.9663 - precision: 0.9422 - recall: 0.9218 - auc: 0.9937 - val_loss: 0.5069 - val_accuracy: 0.9410 - val_precision: 0.8873 - val_recall: 0.8750 - val_auc: 0.9598\n",
            "Epoch 50/1000\n",
            "10/10 [==============================] - 15s 1s/step - loss: 0.1872 - accuracy: 0.9767 - precision: 0.9611 - recall: 0.9451 - auc: 0.9957 - val_loss: 0.5068 - val_accuracy: 0.9340 - val_precision: 0.8732 - val_recall: 0.8611 - val_auc: 0.9602\n",
            "Epoch 51/1000\n",
            "10/10 [==============================] - 16s 2s/step - loss: 0.1994 - accuracy: 0.9680 - precision: 0.9471 - recall: 0.9235 - auc: 0.9948 - val_loss: 0.5884 - val_accuracy: 0.9132 - val_precision: 0.8310 - val_recall: 0.8194 - val_auc: 0.9526\n",
            "Epoch 52/1000\n",
            "10/10 [==============================] - 16s 2s/step - loss: 0.1937 - accuracy: 0.9725 - precision: 0.9542 - recall: 0.9351 - auc: 0.9946 - val_loss: 0.5589 - val_accuracy: 0.9201 - val_precision: 0.8451 - val_recall: 0.8333 - val_auc: 0.9563\n",
            "Epoch 53/1000\n",
            "10/10 [==============================] - 16s 2s/step - loss: 0.1956 - accuracy: 0.9655 - precision: 0.9450 - recall: 0.9151 - auc: 0.9947 - val_loss: 0.5790 - val_accuracy: 0.9167 - val_precision: 0.8429 - val_recall: 0.8194 - val_auc: 0.9539\n",
            "Epoch 54/1000\n",
            "10/10 [==============================] - 15s 2s/step - loss: 0.2010 - accuracy: 0.9663 - precision: 0.9437 - recall: 0.9201 - auc: 0.9941 - val_loss: 0.5796 - val_accuracy: 0.9306 - val_precision: 0.8611 - val_recall: 0.8611 - val_auc: 0.9515\n",
            "Epoch 55/1000\n",
            "10/10 [==============================] - 15s 1s/step - loss: 0.1891 - accuracy: 0.9700 - precision: 0.9475 - recall: 0.9318 - auc: 0.9946 - val_loss: 0.5264 - val_accuracy: 0.9444 - val_precision: 0.9000 - val_recall: 0.8750 - val_auc: 0.9592\n",
            "Epoch 56/1000\n",
            "10/10 [==============================] - 16s 2s/step - loss: 0.1782 - accuracy: 0.9725 - precision: 0.9557 - recall: 0.9334 - auc: 0.9954 - val_loss: 0.5267 - val_accuracy: 0.9444 - val_precision: 0.9000 - val_recall: 0.8750 - val_auc: 0.9599\n",
            "Epoch 57/1000\n",
            "10/10 [==============================] - 16s 2s/step - loss: 0.1754 - accuracy: 0.9775 - precision: 0.9628 - recall: 0.9468 - auc: 0.9956 - val_loss: 0.5169 - val_accuracy: 0.9410 - val_precision: 0.8873 - val_recall: 0.8750 - val_auc: 0.9622\n",
            "Epoch 58/1000\n",
            "10/10 [==============================] - 15s 2s/step - loss: 0.1897 - accuracy: 0.9692 - precision: 0.9459 - recall: 0.9301 - auc: 0.9943 - val_loss: 0.5268 - val_accuracy: 0.9410 - val_precision: 0.8873 - val_recall: 0.8750 - val_auc: 0.9601\n",
            "Epoch 59/1000\n",
            "10/10 [==============================] - 16s 2s/step - loss: 0.1785 - accuracy: 0.9709 - precision: 0.9492 - recall: 0.9334 - auc: 0.9948 - val_loss: 0.5742 - val_accuracy: 0.9340 - val_precision: 0.8732 - val_recall: 0.8611 - val_auc: 0.9536\n",
            "Epoch 60/1000\n",
            "10/10 [==============================] - 15s 2s/step - loss: 0.1892 - accuracy: 0.9709 - precision: 0.9492 - recall: 0.9334 - auc: 0.9938 - val_loss: 0.5748 - val_accuracy: 0.9306 - val_precision: 0.8824 - val_recall: 0.8333 - val_auc: 0.9538\n",
            "Epoch 61/1000\n",
            "10/10 [==============================] - 15s 1s/step - loss: 0.1734 - accuracy: 0.9692 - precision: 0.9459 - recall: 0.9301 - auc: 0.9960 - val_loss: 0.5264 - val_accuracy: 0.9375 - val_precision: 0.8857 - val_recall: 0.8611 - val_auc: 0.9593\n",
            "Epoch 62/1000\n",
            "10/10 [==============================] - 16s 2s/step - loss: 0.1587 - accuracy: 0.9730 - precision: 0.9589 - recall: 0.9318 - auc: 0.9970 - val_loss: 0.5454 - val_accuracy: 0.9236 - val_precision: 0.8571 - val_recall: 0.8333 - val_auc: 0.9557\n",
            "Epoch 63/1000\n",
            "10/10 [==============================] - 16s 2s/step - loss: 0.1700 - accuracy: 0.9725 - precision: 0.9542 - recall: 0.9351 - auc: 0.9957 - val_loss: 0.5077 - val_accuracy: 0.9444 - val_precision: 0.9000 - val_recall: 0.8750 - val_auc: 0.9604\n",
            "Epoch 64/1000\n",
            "10/10 [==============================] - 15s 2s/step - loss: 0.1611 - accuracy: 0.9717 - precision: 0.9479 - recall: 0.9384 - auc: 0.9965 - val_loss: 0.4757 - val_accuracy: 0.9410 - val_precision: 0.8873 - val_recall: 0.8750 - val_auc: 0.9671\n",
            "Epoch 65/1000\n",
            "10/10 [==============================] - 15s 1s/step - loss: 0.2066 - accuracy: 0.9605 - precision: 0.9259 - recall: 0.9151 - auc: 0.9923 - val_loss: 0.5029 - val_accuracy: 0.9306 - val_precision: 0.8824 - val_recall: 0.8333 - val_auc: 0.9633\n",
            "Epoch 66/1000\n",
            "10/10 [==============================] - 16s 2s/step - loss: 0.2101 - accuracy: 0.9592 - precision: 0.9227 - recall: 0.9135 - auc: 0.9914 - val_loss: 0.5408 - val_accuracy: 0.9375 - val_precision: 0.8857 - val_recall: 0.8611 - val_auc: 0.9575\n",
            "Epoch 67/1000\n",
            "10/10 [==============================] - 15s 1s/step - loss: 0.2169 - accuracy: 0.9530 - precision: 0.9164 - recall: 0.8935 - auc: 0.9915 - val_loss: 0.5622 - val_accuracy: 0.9375 - val_precision: 0.8857 - val_recall: 0.8611 - val_auc: 0.9566\n",
            "Epoch 68/1000\n",
            "10/10 [==============================] - 15s 1s/step - loss: 0.1434 - accuracy: 0.9750 - precision: 0.9593 - recall: 0.9401 - auc: 0.9974 - val_loss: 0.4712 - val_accuracy: 0.9444 - val_precision: 0.9000 - val_recall: 0.8750 - val_auc: 0.9681\n",
            "Epoch 69/1000\n",
            "10/10 [==============================] - 16s 2s/step - loss: 0.1823 - accuracy: 0.9688 - precision: 0.9443 - recall: 0.9301 - auc: 0.9945 - val_loss: 0.4979 - val_accuracy: 0.9340 - val_precision: 0.8841 - val_recall: 0.8472 - val_auc: 0.9638\n",
            "Epoch 70/1000\n",
            "10/10 [==============================] - 16s 2s/step - loss: 0.1723 - accuracy: 0.9709 - precision: 0.9492 - recall: 0.9334 - auc: 0.9953 - val_loss: 0.5743 - val_accuracy: 0.9167 - val_precision: 0.8429 - val_recall: 0.8194 - val_auc: 0.9537\n",
            "Epoch 71/1000\n",
            "10/10 [==============================] - 16s 2s/step - loss: 0.1684 - accuracy: 0.9680 - precision: 0.9426 - recall: 0.9285 - auc: 0.9953 - val_loss: 0.5005 - val_accuracy: 0.9340 - val_precision: 0.8732 - val_recall: 0.8611 - val_auc: 0.9664\n",
            "Epoch 72/1000\n",
            "10/10 [==============================] - 16s 2s/step - loss: 0.1552 - accuracy: 0.9725 - precision: 0.9542 - recall: 0.9351 - auc: 0.9964 - val_loss: 0.5295 - val_accuracy: 0.9410 - val_precision: 0.8873 - val_recall: 0.8750 - val_auc: 0.9558\n",
            "Epoch 73/1000\n",
            "10/10 [==============================] - 16s 2s/step - loss: 0.1368 - accuracy: 0.9780 - precision: 0.9660 - recall: 0.9451 - auc: 0.9977 - val_loss: 0.4960 - val_accuracy: 0.9410 - val_precision: 0.8873 - val_recall: 0.8750 - val_auc: 0.9667\n",
            "Epoch 74/1000\n",
            "10/10 [==============================] - 16s 1s/step - loss: 0.1486 - accuracy: 0.9750 - precision: 0.9546 - recall: 0.9451 - auc: 0.9967 - val_loss: 0.6053 - val_accuracy: 0.9375 - val_precision: 0.8857 - val_recall: 0.8611 - val_auc: 0.9495\n",
            "Epoch 75/1000\n",
            "10/10 [==============================] - 16s 2s/step - loss: 0.1335 - accuracy: 0.9800 - precision: 0.9663 - recall: 0.9534 - auc: 0.9976 - val_loss: 0.5572 - val_accuracy: 0.9201 - val_precision: 0.8451 - val_recall: 0.8333 - val_auc: 0.9593\n",
            "Epoch 76/1000\n",
            "10/10 [==============================] - 16s 2s/step - loss: 0.1579 - accuracy: 0.9738 - precision: 0.9529 - recall: 0.9418 - auc: 0.9956 - val_loss: 0.6363 - val_accuracy: 0.9410 - val_precision: 0.8873 - val_recall: 0.8750 - val_auc: 0.9442\n",
            "Epoch 77/1000\n",
            "10/10 [==============================] - 16s 1s/step - loss: 0.1720 - accuracy: 0.9696 - precision: 0.9459 - recall: 0.9318 - auc: 0.9950 - val_loss: 0.4707 - val_accuracy: 0.9444 - val_precision: 0.8889 - val_recall: 0.8889 - val_auc: 0.9652\n",
            "Epoch 78/1000\n",
            "10/10 [==============================] - 16s 2s/step - loss: 0.1314 - accuracy: 0.9771 - precision: 0.9643 - recall: 0.9434 - auc: 0.9975 - val_loss: 0.5439 - val_accuracy: 0.9306 - val_precision: 0.8611 - val_recall: 0.8611 - val_auc: 0.9585\n",
            "Epoch 79/1000\n",
            "10/10 [==============================] - 15s 2s/step - loss: 0.1225 - accuracy: 0.9825 - precision: 0.9666 - recall: 0.9634 - auc: 0.9975 - val_loss: 0.5714 - val_accuracy: 0.9375 - val_precision: 0.8750 - val_recall: 0.8750 - val_auc: 0.9565\n",
            "Epoch 80/1000\n",
            "10/10 [==============================] - 15s 2s/step - loss: 0.1412 - accuracy: 0.9804 - precision: 0.9648 - recall: 0.9567 - auc: 0.9969 - val_loss: 0.5647 - val_accuracy: 0.9271 - val_precision: 0.8696 - val_recall: 0.8333 - val_auc: 0.9596\n",
            "Epoch 81/1000\n",
            "10/10 [==============================] - 15s 1s/step - loss: 0.1278 - accuracy: 0.9767 - precision: 0.9564 - recall: 0.9501 - auc: 0.9976 - val_loss: 0.5156 - val_accuracy: 0.9340 - val_precision: 0.8732 - val_recall: 0.8611 - val_auc: 0.9646\n",
            "Epoch 82/1000\n",
            "10/10 [==============================] - 16s 2s/step - loss: 0.1200 - accuracy: 0.9834 - precision: 0.9714 - recall: 0.9617 - auc: 0.9978 - val_loss: 0.4722 - val_accuracy: 0.9375 - val_precision: 0.8750 - val_recall: 0.8750 - val_auc: 0.9660\n",
            "Epoch 83/1000\n",
            "10/10 [==============================] - 15s 1s/step - loss: 0.1039 - accuracy: 0.9875 - precision: 0.9750 - recall: 0.9750 - auc: 0.9988 - val_loss: 0.5581 - val_accuracy: 0.9306 - val_precision: 0.8714 - val_recall: 0.8472 - val_auc: 0.9594\n",
            "Epoch 84/1000\n",
            "10/10 [==============================] - 16s 2s/step - loss: 0.1110 - accuracy: 0.9775 - precision: 0.9612 - recall: 0.9484 - auc: 0.9984 - val_loss: 0.5715 - val_accuracy: 0.9340 - val_precision: 0.8841 - val_recall: 0.8472 - val_auc: 0.9582\n",
            "Epoch 85/1000\n",
            "10/10 [==============================] - 15s 2s/step - loss: 0.1195 - accuracy: 0.9842 - precision: 0.9731 - recall: 0.9634 - auc: 0.9981 - val_loss: 0.5504 - val_accuracy: 0.9375 - val_precision: 0.8857 - val_recall: 0.8611 - val_auc: 0.9630\n",
            "Epoch 86/1000\n",
            "10/10 [==============================] - 15s 1s/step - loss: 0.1277 - accuracy: 0.9767 - precision: 0.9595 - recall: 0.9468 - auc: 0.9972 - val_loss: 0.5532 - val_accuracy: 0.9410 - val_precision: 0.8986 - val_recall: 0.8611 - val_auc: 0.9600\n",
            "Epoch 87/1000\n",
            "10/10 [==============================] - 15s 2s/step - loss: 0.1517 - accuracy: 0.9734 - precision: 0.9513 - recall: 0.9418 - auc: 0.9953 - val_loss: 0.5303 - val_accuracy: 0.9271 - val_precision: 0.8696 - val_recall: 0.8333 - val_auc: 0.9588\n",
            "Epoch 88/1000\n",
            "10/10 [==============================] - 15s 1s/step - loss: 0.1666 - accuracy: 0.9705 - precision: 0.9476 - recall: 0.9334 - auc: 0.9937 - val_loss: 0.5024 - val_accuracy: 0.9375 - val_precision: 0.8750 - val_recall: 0.8750 - val_auc: 0.9700\n",
            "Epoch 89/1000\n",
            "10/10 [==============================] - ETA: 0s - loss: 0.1172 - accuracy: 0.9821 - precision: 0.9697 - recall: 0.9584 - auc: 0.9976\n",
            "Reached 95.00% accuracy, so stopping training!!\n",
            "10/10 [==============================] - 15s 1s/step - loss: 0.1172 - accuracy: 0.9821 - precision: 0.9697 - recall: 0.9584 - auc: 0.9976 - val_loss: 0.5372 - val_accuracy: 0.9514 - val_precision: 0.9028 - val_recall: 0.9028 - val_auc: 0.9634\n"
          ]
        }
      ]
    },
    {
      "cell_type": "code",
      "source": [
        "history = model.fit( train_generator, steps_per_epoch = (len(train_generator)/batch_size),\n",
        "                     epochs = 1000, callbacks = callback_list, \n",
        "                     validation_data = val_generator, validation_steps = 10)\n",
        "\n",
        "model.load_weights(\"model2.h5\")\n",
        "\n",
        "history_dict = history.history"
      ],
      "metadata": {
        "id": "6OVhSqtuKD6f"
      },
      "id": "6OVhSqtuKD6f",
      "execution_count": null,
      "outputs": []
    },
    {
      "cell_type": "code",
      "source": [
        "test_datagen   = ImageDataGenerator( rescale = 1./255 )\n",
        "test_generator = test_datagen.flow_from_directory(\"/content/drive/MyDrive/Chest Cancer Detection Resized/Data/test resized\", target_size = (250, 250),\n",
        "                                                   batch_size  = 64, shuffle = False)\n",
        "\n",
        "# Atributo do generator que fornece o número de amostras detectadas\n",
        "test_samples = test_generator.samples\n",
        "\n",
        "test_loss, accuracy,_,_,_ = model.evaluate( test_generator )\n",
        "\n",
        "print(\"Test Accuracy:\", 100*accuracy, \"%\")\n",
        "print(\"Acertos: {} - Erros: {}\".format(round(test_samples * accuracy), \n",
        "                                       round(test_samples * (1-accuracy) )))"
      ],
      "metadata": {
        "colab": {
          "base_uri": "https://localhost:8080/"
        },
        "id": "KwKJpCSZN3bP",
        "outputId": "adef9f9a-dc3b-4381-a881-360f84276b1e"
      },
      "id": "KwKJpCSZN3bP",
      "execution_count": 202,
      "outputs": [
        {
          "output_type": "stream",
          "name": "stdout",
          "text": [
            "Found 315 images belonging to 4 classes.\n",
            "5/5 [==============================] - 4s 695ms/step - loss: 0.3330 - accuracy: 0.9421 - precision: 0.8878 - recall: 0.8794 - auc: 0.9810\n",
            "Test Accuracy: 94.20635104179382 %\n",
            "Acertos: 297 - Erros: 18\n"
          ]
        }
      ]
    },
    {
      "cell_type": "code",
      "source": [
        "plt.plot(history.history['accuracy'])\n",
        "plt.plot(history.history['loss'])\n",
        "plt.title('Precisão de Modelo')\n",
        "plt.ylabel('Precisão')\n",
        "plt.xlabel('Tempo')\n",
        "plt.legend(['Acuracia', 'Loss'], loc = 0)\n",
        "plt.show()"
      ],
      "metadata": {
        "colab": {
          "base_uri": "https://localhost:8080/",
          "height": 295
        },
        "id": "PrxGqbXAtzim",
        "outputId": "1e65b836-15ad-4c4e-a61b-0da6ed1fe37d"
      },
      "id": "PrxGqbXAtzim",
      "execution_count": 204,
      "outputs": [
        {
          "output_type": "display_data",
          "data": {
            "text/plain": [
              "<Figure size 432x288 with 1 Axes>"
            ],
            "image/png": "[encoded data removed]"
          },
          "metadata": {
            "needs_background": "light"
          }
        }
      ]
    },
    {
      "cell_type": "code",
      "source": [
        "plt.plot(history.history['accuracy'])\n",
        "plt.plot(history.history['val_accuracy'])\n",
        "plt.title('Precisão de Modelo')\n",
        "plt.ylabel('Precisão')\n",
        "plt.xlabel('Tempo')\n",
        "plt.legend(['Acuracia', 'validação'], loc = 0)\n",
        "plt.show()"
      ],
      "metadata": {
        "colab": {
          "base_uri": "https://localhost:8080/",
          "height": 295
        },
        "id": "XabG88_3Lgsy",
        "outputId": "03a030f6-80fa-408a-95cc-80788a12d33e"
      },
      "id": "XabG88_3Lgsy",
      "execution_count": 207,
      "outputs": [
        {
          "output_type": "display_data",
          "data": {
            "text/plain": [
              "<Figure size 432x288 with 1 Axes>"
            ],
            "image/png": "[encoded data removed]"
          },
          "metadata": {
            "needs_background": "light"
          }
        }
      ]
    },
    {
      "cell_type": "code",
      "source": [
        "fig, axes = plt.subplots(1, 2, squeeze = False, figsize = (16,8))\n",
        "\n",
        "# Loss\n",
        "train_loss_values = history.history[\"loss\"]\n",
        "val_loss_values = history.history[\"val_loss\"]\n",
        "\n",
        "# Epochs\n",
        "epochs = range(1, len(train_loss_values) + 1)\n",
        "\n",
        "# Accuracy\n",
        "train_acc_values = history.history[\"accuracy\"]\n",
        "val_acc_values = history.history[\"val_accuracy\"]\n",
        "\n",
        "ax = axes.flat[0]\n",
        "ax.plot(epochs, train_loss_values, \"r\", label=\"Training loss\")\n",
        "ax.plot(epochs, val_loss_values, \"b\", label=\"Validation loss\")\n",
        "ax.set_title(\"Training and validation Loss\")\n",
        "ax.set_xlabel(\"Epochs\")\n",
        "ax.set_ylabel(\"Loss\")\n",
        "ax.legend()\n",
        "\n",
        "ax = axes.flat[1]\n",
        "ax.plot(epochs, train_acc_values, \"r\", label=\"Training acc\")\n",
        "ax.plot(epochs, val_acc_values, \"b\", label=\"Validation acc\")\n",
        "ax.set_title(\"Training and validation Accuracy\")\n",
        "ax.set_xlabel(\"Epochs\")\n",
        "ax.set_ylabel(\"Accuracy\")\n",
        "ax.legend()"
      ],
      "metadata": {
        "colab": {
          "base_uri": "https://localhost:8080/",
          "height": 530
        },
        "id": "zkcwT-zMLMlZ",
        "outputId": "7018c7ed-80a1-45ad-db77-99d51fbef400"
      },
      "id": "zkcwT-zMLMlZ",
      "execution_count": 209,
      "outputs": [
        {
          "output_type": "execute_result",
          "data": {
            "text/plain": [
              "<matplotlib.legend.Legend at 0x7f03b898e390>"
            ]
          },
          "metadata": {},
          "execution_count": 209
        },
        {
          "output_type": "display_data",
          "data": {
            "text/plain": [
              "<Figure size 1152x576 with 2 Axes>"
            ],
            "image/png": "[encoded data removed]"
          },
          "metadata": {
            "needs_background": "light"
          }
        }
      ]
    }
  ],
  "metadata": {
    "kernelspec": {
      "display_name": "Python 3 (ipykernel)",
      "language": "python",
      "name": "python3"
    },
    "language_info": {
      "codemirror_mode": {
        "name": "ipython",
        "version": 3
      },
      "file_extension": ".py",
      "mimetype": "text/x-python",
      "name": "python",
      "nbconvert_exporter": "python",
      "pygments_lexer": "ipython3",
      "version": "3.9.7"
    },
    "colab": {
      "name": "Chest_Cancer_Detection.ipynb",
      "provenance": [],
      "collapsed_sections": []
    },
    "accelerator": "GPU"
  },
  "nbformat": 4,
  "nbformat_minor": 5
}